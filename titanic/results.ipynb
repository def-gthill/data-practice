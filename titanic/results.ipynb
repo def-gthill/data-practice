{
 "cells": [
  {
   "cell_type": "code",
   "execution_count": 1,
   "id": "5c574b35-7929-4e39-8998-80e2f676258b",
   "metadata": {},
   "outputs": [],
   "source": [
    "import models"
   ]
  },
  {
   "cell_type": "code",
   "execution_count": 7,
   "id": "c30f04f8-7d81-409d-badb-870bc9e3a8a5",
   "metadata": {},
   "outputs": [
    {
     "data": {
      "text/plain": [
       "<module 'models' from '/Users/gthill/projects/data-practice/titanic/models.py'>"
      ]
     },
     "execution_count": 7,
     "metadata": {},
     "output_type": "execute_result"
    }
   ],
   "source": [
    "from importlib import reload\n",
    "reload(models)"
   ]
  },
  {
   "cell_type": "markdown",
   "id": "a6ec0687-3fdc-47af-86e3-62111fe5470b",
   "metadata": {},
   "source": [
    "## Dummy model"
   ]
  },
  {
   "cell_type": "code",
   "execution_count": 11,
   "id": "e410b7de-8d42-4f89-831b-d25d4df21bdd",
   "metadata": {},
   "outputs": [],
   "source": [
    "dummy_model = models.DummyModel()"
   ]
  },
  {
   "cell_type": "code",
   "execution_count": 14,
   "id": "9a9ac465-632d-465c-942e-f9b6cf8cb22a",
   "metadata": {},
   "outputs": [],
   "source": [
    "dummy = dummy_model.get_split_model()"
   ]
  },
  {
   "cell_type": "code",
   "execution_count": 15,
   "id": "672087ad-f8ee-45f1-94b8-8fdead6a2ec8",
   "metadata": {},
   "outputs": [
    {
     "data": {
      "text/plain": [
       "0.6256983240223464"
      ]
     },
     "execution_count": 15,
     "metadata": {},
     "output_type": "execute_result"
    }
   ],
   "source": [
    "models.evaluate(dummy)"
   ]
  },
  {
   "cell_type": "code",
   "execution_count": 16,
   "id": "7e7639af-f9ce-4a37-9545-3e69dca8035c",
   "metadata": {},
   "outputs": [],
   "source": [
    "dummy_refit = dummy_model.get_refit_model()"
   ]
  },
  {
   "cell_type": "code",
   "execution_count": null,
   "id": "2e3ca914-1087-4eae-90f3-c66ca24b381d",
   "metadata": {},
   "outputs": [],
   "source": [
    "#models.submit(\"dummy.csv\", dummy)"
   ]
  },
  {
   "cell_type": "markdown",
   "id": "80930da5-11fe-4099-bc56-584141968284",
   "metadata": {},
   "source": [
    "## Gender-only model"
   ]
  },
  {
   "cell_type": "code",
   "execution_count": null,
   "id": "32c52add-d68a-44d5-b59f-9ae94ea964a0",
   "metadata": {},
   "outputs": [],
   "source": [
    "gender_only = models.gender_model()"
   ]
  },
  {
   "cell_type": "code",
   "execution_count": null,
   "id": "980befc6-1272-418b-823a-14cbfad38df7",
   "metadata": {},
   "outputs": [],
   "source": [
    "models.evaluate(gender_only)"
   ]
  },
  {
   "cell_type": "code",
   "execution_count": null,
   "id": "92d3d6a4-5fe2-4f9f-93cb-20a9c3e375ae",
   "metadata": {},
   "outputs": [],
   "source": [
    "#models.submit(\"gender.csv\", gender_only)"
   ]
  },
  {
   "cell_type": "code",
   "execution_count": null,
   "id": "5c72ea54-fb35-4103-8d36-26907e4cedff",
   "metadata": {},
   "outputs": [],
   "source": [
    "gender_only[\"classifier\"].coef_, gender_only[\"classifier\"].intercept_"
   ]
  },
  {
   "cell_type": "markdown",
   "id": "53afb8fe-ee30-46f2-98a7-8b8a5c8f75fe",
   "metadata": {},
   "source": [
    "## Full linear"
   ]
  },
  {
   "cell_type": "code",
   "execution_count": null,
   "id": "e08b42a7-29b2-49e9-a6d0-a1f2744ad876",
   "metadata": {},
   "outputs": [],
   "source": [
    "full_linear = models.full_linear_model()"
   ]
  },
  {
   "cell_type": "code",
   "execution_count": null,
   "id": "83cf1173-4b9f-4c50-ac33-f9b271d1036c",
   "metadata": {},
   "outputs": [],
   "source": [
    "models.evaluate(full_linear)"
   ]
  },
  {
   "cell_type": "code",
   "execution_count": null,
   "id": "0e50f62b-7a45-4ee2-9944-3852bd7a48c5",
   "metadata": {},
   "outputs": [],
   "source": [
    "#models.submit(\"full_linear.csv\", full_linear)"
   ]
  },
  {
   "cell_type": "code",
   "execution_count": null,
   "id": "29051b98-73b9-4e1f-908a-f6b33f4da302",
   "metadata": {},
   "outputs": [],
   "source": [
    "prep = full_linear['preprocessing']"
   ]
  },
  {
   "cell_type": "code",
   "execution_count": null,
   "id": "3537ccc4-a8b4-4e1b-9ae7-a86e7759133e",
   "metadata": {},
   "outputs": [],
   "source": [
    "clf = full_linear['classifier']"
   ]
  },
  {
   "cell_type": "code",
   "execution_count": null,
   "id": "b72b2678-13f3-4e9f-a6f9-47500739b620",
   "metadata": {},
   "outputs": [],
   "source": [
    "clf.C_"
   ]
  },
  {
   "cell_type": "code",
   "execution_count": null,
   "id": "a51b617a-b05b-4122-88a7-c085a512087f",
   "metadata": {},
   "outputs": [],
   "source": [
    "clf.scores_[1][0]"
   ]
  },
  {
   "cell_type": "markdown",
   "id": "1c088ac9-9208-4da8-87e9-1b4dc9d61aa4",
   "metadata": {},
   "source": [
    "So it seems the penalties aren't applying; the best results are coming from the models where the penalties are too weak to affect the model. Maybe this is because there just aren't that many input features, so it isn't overfitting even with no penalty."
   ]
  },
  {
   "cell_type": "code",
   "execution_count": null,
   "id": "04f55b17-b3d1-4960-bcb0-b795b9cf7515",
   "metadata": {},
   "outputs": [],
   "source": [
    "models.coefs(prep.column_names, clf.coef_[0])"
   ]
  },
  {
   "cell_type": "markdown",
   "id": "4f856a35-ee5a-42cf-90a9-2acece267ae6",
   "metadata": {},
   "source": [
    "Gender is by far the biggest predictor. That's why this doesn't improve much on the gender only model."
   ]
  },
  {
   "cell_type": "markdown",
   "id": "c44a6213-9911-43bf-95a9-645c600d6b96",
   "metadata": {},
   "source": [
    "## Random forest"
   ]
  },
  {
   "cell_type": "code",
   "execution_count": null,
   "id": "8cd56db5-0463-4cca-998c-b2e321bd3cf5",
   "metadata": {},
   "outputs": [],
   "source": [
    "forest = models.random_forest_model()"
   ]
  },
  {
   "cell_type": "code",
   "execution_count": null,
   "id": "8cd9e2a7-1275-4a55-a2b2-7c49653109d8",
   "metadata": {},
   "outputs": [],
   "source": [
    "models.evaluate(forest)"
   ]
  },
  {
   "cell_type": "code",
   "execution_count": null,
   "id": "18e7ff7b-158b-438a-83b6-dc516879870a",
   "metadata": {},
   "outputs": [],
   "source": [
    "models.submit(\"random_forest.csv\", forest)"
   ]
  }
 ],
 "metadata": {
  "kernelspec": {
   "display_name": "dp1",
   "language": "python",
   "name": "dp1"
  },
  "language_info": {
   "codemirror_mode": {
    "name": "ipython",
    "version": 3
   },
   "file_extension": ".py",
   "mimetype": "text/x-python",
   "name": "python",
   "nbconvert_exporter": "python",
   "pygments_lexer": "ipython3",
   "version": "3.9.5"
  }
 },
 "nbformat": 4,
 "nbformat_minor": 5
}
