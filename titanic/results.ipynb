{
 "cells": [
  {
   "cell_type": "code",
   "execution_count": 1,
   "id": "5c574b35-7929-4e39-8998-80e2f676258b",
   "metadata": {},
   "outputs": [],
   "source": [
    "import models"
   ]
  },
  {
   "cell_type": "code",
   "execution_count": 2,
   "id": "e410b7de-8d42-4f89-831b-d25d4df21bdd",
   "metadata": {},
   "outputs": [],
   "source": [
    "dummy = models.dummy_model()"
   ]
  },
  {
   "cell_type": "code",
   "execution_count": 3,
   "id": "672087ad-f8ee-45f1-94b8-8fdead6a2ec8",
   "metadata": {},
   "outputs": [
    {
     "data": {
      "text/plain": [
       "0.6256983240223464"
      ]
     },
     "execution_count": 3,
     "metadata": {},
     "output_type": "execute_result"
    }
   ],
   "source": [
    "models.evaluate(dummy)"
   ]
  },
  {
   "cell_type": "code",
   "execution_count": 4,
   "id": "2e3ca914-1087-4eae-90f3-c66ca24b381d",
   "metadata": {},
   "outputs": [],
   "source": [
    "models.submit(\"dummy.csv\", dummy)"
   ]
  },
  {
   "cell_type": "code",
   "execution_count": null,
   "id": "786b9548-7b8f-47a3-b8f7-e4ac97c61368",
   "metadata": {},
   "outputs": [],
   "source": []
  }
 ],
 "metadata": {
  "kernelspec": {
   "display_name": "dp1",
   "language": "python",
   "name": "dp1"
  },
  "language_info": {
   "codemirror_mode": {
    "name": "ipython",
    "version": 3
   },
   "file_extension": ".py",
   "mimetype": "text/x-python",
   "name": "python",
   "nbconvert_exporter": "python",
   "pygments_lexer": "ipython3",
   "version": "3.9.5"
  }
 },
 "nbformat": 4,
 "nbformat_minor": 5
}
